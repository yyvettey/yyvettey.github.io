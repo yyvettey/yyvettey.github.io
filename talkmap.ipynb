{
 "cells": [
  {
   "cell_type": "markdown",
   "metadata": {},
   "source": [
    "# Leaflet cluster map of talk locations\n",
    "\n",
    "Run this from the _talks/ directory, which contains .md files of all your talks. This scrapes the location YAML field from each .md file, geolocates it with geopy/Nominatim, and uses the getorg library to output data, HTML, and Javascript for a standalone cluster map."
   ]
  },
  {
   "cell_type": "code",
   "execution_count": 1,
   "metadata": {},
   "outputs": [
    {
     "name": "stdout",
     "output_type": "stream",
     "text": [
      "Collecting getorg\n",
      "  Using cached https://files.pythonhosted.org/packages/d8/81/842a17df2892d8f357929a3a937d30f36bd11998b31b75e663515e24bf50/getorg-0.3.1-py2.py3-none-any.whl\n",
      "Collecting geopy (from getorg)\n",
      "  Using cached https://files.pythonhosted.org/packages/a8/5c/ca78a17b2c6fe1179e9221c9280bb5d8caaf048a631ed72caed40c52de24/geopy-1.18.1-py2.py3-none-any.whl\n",
      "Collecting retrying (from getorg)\n",
      "  Using cached https://files.pythonhosted.org/packages/44/ef/beae4b4ef80902f22e3af073397f079c96969c69b2c7d52a57ea9ae61c9d/retrying-1.3.3.tar.gz\n",
      "Collecting pygithub (from getorg)\n",
      "  Using cached https://files.pythonhosted.org/packages/6d/13/6cf2d64c1de3a1d4892d69e4bea2039f920f373bc06b8962940ff5cde8bd/PyGithub-1.43.5.tar.gz\n",
      "Collecting geographiclib<2,>=1.49 (from geopy->getorg)\n",
      "  Using cached https://files.pythonhosted.org/packages/5b/ac/4f348828091490d77899bc74e92238e2b55c59392f21948f296e94e50e2b/geographiclib-1.49.tar.gz\n",
      "Collecting six>=1.7.0 (from retrying->getorg)\n",
      "  Using cached https://files.pythonhosted.org/packages/73/fb/00a976f728d0d1fecfe898238ce23f502a721c0ac0ecfedb80e0d88c64e9/six-1.12.0-py2.py3-none-any.whl\n",
      "Collecting requests>=2.14.0 (from pygithub->getorg)\n",
      "  Using cached https://files.pythonhosted.org/packages/7d/e3/20f3d364d6c8e5d2353c72a67778eb189176f08e873c9900e10c0287b84b/requests-2.21.0-py2.py3-none-any.whl\n",
      "Collecting pyjwt (from pygithub->getorg)\n",
      "  Using cached https://files.pythonhosted.org/packages/87/8b/6a9f14b5f781697e51259d81657e6048fd31a113229cf346880bb7545565/PyJWT-1.7.1-py2.py3-none-any.whl\n",
      "Collecting Deprecated (from pygithub->getorg)\n",
      "  Using cached https://files.pythonhosted.org/packages/a9/cb/c1a39ee51e3042df8b284e22c9c440ffad1c25f451bddd4bf9a8dc17cd75/Deprecated-1.2.4-py2.py3-none-any.whl\n",
      "Collecting urllib3<1.25,>=1.21.1 (from requests>=2.14.0->pygithub->getorg)\n",
      "  Using cached https://files.pythonhosted.org/packages/62/00/ee1d7de624db8ba7090d1226aebefab96a2c71cd5cfa7629d6ad3f61b79e/urllib3-1.24.1-py2.py3-none-any.whl\n",
      "Collecting certifi>=2017.4.17 (from requests>=2.14.0->pygithub->getorg)\n",
      "  Using cached https://files.pythonhosted.org/packages/9f/e0/accfc1b56b57e9750eba272e24c4dddeac86852c2bebd1236674d7887e8a/certifi-2018.11.29-py2.py3-none-any.whl\n",
      "Collecting chardet<3.1.0,>=3.0.2 (from requests>=2.14.0->pygithub->getorg)\n",
      "  Using cached https://files.pythonhosted.org/packages/bc/a9/01ffebfb562e4274b6487b4bb1ddec7ca55ec7510b22e4c51f14098443b8/chardet-3.0.4-py2.py3-none-any.whl\n",
      "Collecting idna<2.9,>=2.5 (from requests>=2.14.0->pygithub->getorg)\n",
      "  Using cached https://files.pythonhosted.org/packages/14/2c/cd551d81dbe15200be1cf41cd03869a46fe7226e7450af7a6545bfc474c9/idna-2.8-py2.py3-none-any.whl\n",
      "Collecting wrapt<2,>=1 (from Deprecated->pygithub->getorg)\n",
      "  Using cached https://files.pythonhosted.org/packages/67/b2/0f71ca90b0ade7fad27e3d20327c996c6252a2ffe88f50a95bba7434eda9/wrapt-1.11.1.tar.gz\n",
      "Installing collected packages: geographiclib, geopy, six, retrying, urllib3, certifi, chardet, idna, requests, pyjwt, wrapt, Deprecated, pygithub, getorg\n",
      "  Running setup.py install for geographiclib ... \u001b[?25lerror\n",
      "    Complete output from command /usr/bin/python -u -c \"import setuptools, tokenize;__file__='/private/var/folders/9q/dthrm8zx2flf5_lqq3fnwdd00000gn/T/pip-install-H8zMfA/geographiclib/setup.py';f=getattr(tokenize, 'open', open)(__file__);code=f.read().replace('\\r\\n', '\\n');f.close();exec(compile(code, __file__, 'exec'))\" install --record /private/var/folders/9q/dthrm8zx2flf5_lqq3fnwdd00000gn/T/pip-record-q_i8zB/install-record.txt --single-version-externally-managed --compile:\n",
      "    running install\n",
      "    running build\n",
      "    running build_py\n",
      "    creating build\n",
      "    creating build/lib\n",
      "    creating build/lib/geographiclib\n",
      "    copying geographiclib/geodesic.py -> build/lib/geographiclib\n",
      "    copying geographiclib/constants.py -> build/lib/geographiclib\n",
      "    copying geographiclib/polygonarea.py -> build/lib/geographiclib\n",
      "    copying geographiclib/__init__.py -> build/lib/geographiclib\n",
      "    copying geographiclib/geodesicline.py -> build/lib/geographiclib\n",
      "    copying geographiclib/accumulator.py -> build/lib/geographiclib\n",
      "    copying geographiclib/geomath.py -> build/lib/geographiclib\n",
      "    copying geographiclib/geodesiccapability.py -> build/lib/geographiclib\n",
      "    creating build/lib/geographiclib/test\n",
      "    copying geographiclib/test/test_geodesic.py -> build/lib/geographiclib/test\n",
      "    copying geographiclib/test/__init__.py -> build/lib/geographiclib/test\n",
      "    running install_lib\n",
      "    creating /Library/Python/2.7/site-packages/geographiclib\n",
      "    error: could not create '/Library/Python/2.7/site-packages/geographiclib': Permission denied\n",
      "    \n",
      "    ----------------------------------------\n",
      "\u001b[31mCommand \"/usr/bin/python -u -c \"import setuptools, tokenize;__file__='/private/var/folders/9q/dthrm8zx2flf5_lqq3fnwdd00000gn/T/pip-install-H8zMfA/geographiclib/setup.py';f=getattr(tokenize, 'open', open)(__file__);code=f.read().replace('\\r\\n', '\\n');f.close();exec(compile(code, __file__, 'exec'))\" install --record /private/var/folders/9q/dthrm8zx2flf5_lqq3fnwdd00000gn/T/pip-record-q_i8zB/install-record.txt --single-version-externally-managed --compile\" failed with error code 1 in /private/var/folders/9q/dthrm8zx2flf5_lqq3fnwdd00000gn/T/pip-install-H8zMfA/geographiclib/\u001b[0m\n",
      "\u001b[?25hIPywidgets and ipyleaflet support enabled.\n"
     ]
    }
   ],
   "source": [
    "!pip install getorg --upgrade\n",
    "import glob\n",
    "import getorg\n",
    "from geopy import Nominatim"
   ]
  },
  {
   "cell_type": "code",
   "execution_count": 2,
   "metadata": {},
   "outputs": [],
   "source": [
    "g = glob.glob(\"*.md\")"
   ]
  },
  {
   "cell_type": "code",
   "execution_count": 3,
   "metadata": {
    "collapsed": true
   },
   "outputs": [],
   "source": [
    "geocoder = Nominatim()\n",
    "location_dict = {}\n",
    "location = \"\"\n",
    "permalink = \"\"\n",
    "title = \"\""
   ]
  },
  {
   "cell_type": "code",
   "execution_count": 4,
   "metadata": {},
   "outputs": [
    {
     "name": "stdout",
     "output_type": "stream",
     "text": [
      "Berkeley CA, USA \n",
      " Berkeley, Alameda County, California, United States of America\n",
      "Los Angeles, CA \n",
      " LA, Los Angeles County, California, United States of America\n",
      "London, UK \n",
      " London, Greater London, England, UK\n",
      "San Francisco, California \n",
      " SF, California, United States of America\n"
     ]
    }
   ],
   "source": [
    "\n",
    "for file in g:\n",
    "    with open(file, 'r') as f:\n",
    "        lines = f.read()\n",
    "        if lines.find('location: \"') > 1:\n",
    "            loc_start = lines.find('location: \"') + 11\n",
    "            lines_trim = lines[loc_start:]\n",
    "            loc_end = lines_trim.find('\"')\n",
    "            location = lines_trim[:loc_end]\n",
    "                            \n",
    "           \n",
    "        location_dict[location] = geocoder.geocode(location)\n",
    "        print(location, \"\\n\", location_dict[location])\n"
   ]
  },
  {
   "cell_type": "code",
   "execution_count": 5,
   "metadata": {},
   "outputs": [
    {
     "data": {
      "text/plain": [
       "'Written map to ../talkmap/'"
      ]
     },
     "execution_count": 5,
     "metadata": {},
     "output_type": "execute_result"
    }
   ],
   "source": [
    "m = getorg.orgmap.create_map_obj()\n",
    "getorg.orgmap.output_html_cluster_map(location_dict, folder_name=\"../talkmap\", hashed_usernames=False)"
   ]
  },
  {
   "cell_type": "code",
   "execution_count": null,
   "metadata": {
    "collapsed": true
   },
   "outputs": [],
   "source": []
  }
 ],
 "metadata": {
  "anaconda-cloud": {},
  "kernelspec": {
   "display_name": "Python 3",
   "language": "python",
   "name": "python3"
  },
  "language_info": {
   "codemirror_mode": {
    "name": "ipython",
    "version": 3
   },
   "file_extension": ".py",
   "mimetype": "text/x-python",
   "name": "python",
   "nbconvert_exporter": "python",
   "pygments_lexer": "ipython3",
   "version": "3.7.0"
  }
 },
 "nbformat": 4,
 "nbformat_minor": 1
}
